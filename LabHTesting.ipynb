{
 "cells": [
  {
   "cell_type": "markdown",
   "metadata": {},
   "source": [
    "# Before you start:\n",
    "- Read the README.md file\n",
    "- Comment as much as you can and use the resources (README.md file)\n",
    "- Happy learning!"
   ]
  },
  {
   "cell_type": "code",
   "execution_count": 2,
   "metadata": {},
   "outputs": [],
   "source": [
    "import pandas as pd\n",
    "import numpy as np\n",
    "\n"
   ]
  },
  {
   "cell_type": "markdown",
   "metadata": {},
   "source": [
    "# Challenge 1 - Exploring the Data\n",
    "\n",
    "In this challenge, we will examine all salaries of employees of the City of Chicago. We will start by loading the dataset and examining its contents. Please, load the data using Ironhack's database (db: employees, table: employees_advanced)."
   ]
  },
  {
   "cell_type": "code",
   "execution_count": 3,
   "metadata": {},
   "outputs": [],
   "source": [
    "data = pd.read_csv('Current_Employee_Names__Salaries__and_Position_Titles.csv')"
   ]
  },
  {
   "cell_type": "markdown",
   "metadata": {},
   "source": [
    "Examine the `salaries` dataset using the `head` function below."
   ]
  },
  {
   "cell_type": "code",
   "execution_count": 4,
   "metadata": {},
   "outputs": [
    {
     "name": "stdout",
     "output_type": "stream",
     "text": [
      "(32658, 8)\n"
     ]
    },
    {
     "data": {
      "text/html": [
       "<div>\n",
       "<style scoped>\n",
       "    .dataframe tbody tr th:only-of-type {\n",
       "        vertical-align: middle;\n",
       "    }\n",
       "\n",
       "    .dataframe tbody tr th {\n",
       "        vertical-align: top;\n",
       "    }\n",
       "\n",
       "    .dataframe thead th {\n",
       "        text-align: right;\n",
       "    }\n",
       "</style>\n",
       "<table border=\"1\" class=\"dataframe\">\n",
       "  <thead>\n",
       "    <tr style=\"text-align: right;\">\n",
       "      <th></th>\n",
       "      <th>Name</th>\n",
       "      <th>Job Titles</th>\n",
       "      <th>Department</th>\n",
       "      <th>Full or Part-Time</th>\n",
       "      <th>Salary or Hourly</th>\n",
       "      <th>Typical Hours</th>\n",
       "      <th>Annual Salary</th>\n",
       "      <th>Hourly Rate</th>\n",
       "    </tr>\n",
       "  </thead>\n",
       "  <tbody>\n",
       "    <tr>\n",
       "      <th>0</th>\n",
       "      <td>ALLISON,  PAUL W</td>\n",
       "      <td>LIEUTENANT</td>\n",
       "      <td>FIRE</td>\n",
       "      <td>F</td>\n",
       "      <td>Salary</td>\n",
       "      <td>NaN</td>\n",
       "      <td>$107790.00</td>\n",
       "      <td>NaN</td>\n",
       "    </tr>\n",
       "    <tr>\n",
       "      <th>1</th>\n",
       "      <td>BRUNO,  KEVIN D</td>\n",
       "      <td>SERGEANT</td>\n",
       "      <td>POLICE</td>\n",
       "      <td>F</td>\n",
       "      <td>Salary</td>\n",
       "      <td>NaN</td>\n",
       "      <td>$104628.00</td>\n",
       "      <td>NaN</td>\n",
       "    </tr>\n",
       "    <tr>\n",
       "      <th>2</th>\n",
       "      <td>COOPER,  JOHN E</td>\n",
       "      <td>LIEUTENANT-EMT</td>\n",
       "      <td>FIRE</td>\n",
       "      <td>F</td>\n",
       "      <td>Salary</td>\n",
       "      <td>NaN</td>\n",
       "      <td>$114324.00</td>\n",
       "      <td>NaN</td>\n",
       "    </tr>\n",
       "    <tr>\n",
       "      <th>3</th>\n",
       "      <td>CRESPO,  VILMA I</td>\n",
       "      <td>STAFF ASST</td>\n",
       "      <td>LAW</td>\n",
       "      <td>F</td>\n",
       "      <td>Salary</td>\n",
       "      <td>NaN</td>\n",
       "      <td>$76932.00</td>\n",
       "      <td>NaN</td>\n",
       "    </tr>\n",
       "    <tr>\n",
       "      <th>4</th>\n",
       "      <td>DOLAN,  ROBERT J</td>\n",
       "      <td>SERGEANT</td>\n",
       "      <td>POLICE</td>\n",
       "      <td>F</td>\n",
       "      <td>Salary</td>\n",
       "      <td>NaN</td>\n",
       "      <td>$111474.00</td>\n",
       "      <td>NaN</td>\n",
       "    </tr>\n",
       "    <tr>\n",
       "      <th>5</th>\n",
       "      <td>DUBERT,  TOMASZ</td>\n",
       "      <td>PARAMEDIC I/C</td>\n",
       "      <td>FIRE</td>\n",
       "      <td>F</td>\n",
       "      <td>Salary</td>\n",
       "      <td>NaN</td>\n",
       "      <td>$91080.00</td>\n",
       "      <td>NaN</td>\n",
       "    </tr>\n",
       "    <tr>\n",
       "      <th>6</th>\n",
       "      <td>EDWARDS,  TIM P</td>\n",
       "      <td>LIEUTENANT</td>\n",
       "      <td>FIRE</td>\n",
       "      <td>F</td>\n",
       "      <td>Salary</td>\n",
       "      <td>NaN</td>\n",
       "      <td>$114846.00</td>\n",
       "      <td>NaN</td>\n",
       "    </tr>\n",
       "    <tr>\n",
       "      <th>7</th>\n",
       "      <td>ELKINS,  ERIC J</td>\n",
       "      <td>SERGEANT</td>\n",
       "      <td>POLICE</td>\n",
       "      <td>F</td>\n",
       "      <td>Salary</td>\n",
       "      <td>NaN</td>\n",
       "      <td>$104628.00</td>\n",
       "      <td>NaN</td>\n",
       "    </tr>\n",
       "    <tr>\n",
       "      <th>8</th>\n",
       "      <td>ESTRADA,  LUIS F</td>\n",
       "      <td>POLICE OFFICER</td>\n",
       "      <td>POLICE</td>\n",
       "      <td>F</td>\n",
       "      <td>Salary</td>\n",
       "      <td>NaN</td>\n",
       "      <td>$96060.00</td>\n",
       "      <td>NaN</td>\n",
       "    </tr>\n",
       "    <tr>\n",
       "      <th>9</th>\n",
       "      <td>EWING,  MARIE A</td>\n",
       "      <td>CLERK III</td>\n",
       "      <td>POLICE</td>\n",
       "      <td>F</td>\n",
       "      <td>Salary</td>\n",
       "      <td>NaN</td>\n",
       "      <td>$53076.00</td>\n",
       "      <td>NaN</td>\n",
       "    </tr>\n",
       "    <tr>\n",
       "      <th>10</th>\n",
       "      <td>FINN,  SEAN P</td>\n",
       "      <td>FIREFIGHTER</td>\n",
       "      <td>FIRE</td>\n",
       "      <td>F</td>\n",
       "      <td>Salary</td>\n",
       "      <td>NaN</td>\n",
       "      <td>$87006.00</td>\n",
       "      <td>NaN</td>\n",
       "    </tr>\n",
       "    <tr>\n",
       "      <th>11</th>\n",
       "      <td>FITCH,  JORDAN M</td>\n",
       "      <td>LAW CLERK</td>\n",
       "      <td>LAW</td>\n",
       "      <td>F</td>\n",
       "      <td>Hourly</td>\n",
       "      <td>35.0</td>\n",
       "      <td>NaN</td>\n",
       "      <td>$14.51</td>\n",
       "    </tr>\n",
       "    <tr>\n",
       "      <th>12</th>\n",
       "      <td>FREELON,  CHERYL N</td>\n",
       "      <td>POLICE OFFICER</td>\n",
       "      <td>POLICE</td>\n",
       "      <td>F</td>\n",
       "      <td>Salary</td>\n",
       "      <td>NaN</td>\n",
       "      <td>$96060.00</td>\n",
       "      <td>NaN</td>\n",
       "    </tr>\n",
       "    <tr>\n",
       "      <th>13</th>\n",
       "      <td>GRAFF,  KEVIN M</td>\n",
       "      <td>SERGEANT</td>\n",
       "      <td>POLICE</td>\n",
       "      <td>F</td>\n",
       "      <td>Salary</td>\n",
       "      <td>NaN</td>\n",
       "      <td>$111474.00</td>\n",
       "      <td>NaN</td>\n",
       "    </tr>\n",
       "    <tr>\n",
       "      <th>14</th>\n",
       "      <td>GUNN,  ISSAC J</td>\n",
       "      <td>FIREFIGHTER-EMT</td>\n",
       "      <td>FIRE</td>\n",
       "      <td>F</td>\n",
       "      <td>Salary</td>\n",
       "      <td>NaN</td>\n",
       "      <td>$80868.00</td>\n",
       "      <td>NaN</td>\n",
       "    </tr>\n",
       "    <tr>\n",
       "      <th>15</th>\n",
       "      <td>HARRIS,  DANIEL J</td>\n",
       "      <td>POLICE OFFICER</td>\n",
       "      <td>POLICE</td>\n",
       "      <td>F</td>\n",
       "      <td>Salary</td>\n",
       "      <td>NaN</td>\n",
       "      <td>$48078.00</td>\n",
       "      <td>NaN</td>\n",
       "    </tr>\n",
       "    <tr>\n",
       "      <th>16</th>\n",
       "      <td>HATTULA,  CARL J</td>\n",
       "      <td>SERGEANT</td>\n",
       "      <td>POLICE</td>\n",
       "      <td>F</td>\n",
       "      <td>Salary</td>\n",
       "      <td>NaN</td>\n",
       "      <td>$107988.00</td>\n",
       "      <td>NaN</td>\n",
       "    </tr>\n",
       "    <tr>\n",
       "      <th>17</th>\n",
       "      <td>HILL,  LATINA P</td>\n",
       "      <td>PARAMEDIC</td>\n",
       "      <td>FIRE</td>\n",
       "      <td>F</td>\n",
       "      <td>Salary</td>\n",
       "      <td>NaN</td>\n",
       "      <td>$72510.00</td>\n",
       "      <td>NaN</td>\n",
       "    </tr>\n",
       "    <tr>\n",
       "      <th>18</th>\n",
       "      <td>HOLLER,  JOEL P</td>\n",
       "      <td>SERGEANT</td>\n",
       "      <td>POLICE</td>\n",
       "      <td>F</td>\n",
       "      <td>Salary</td>\n",
       "      <td>NaN</td>\n",
       "      <td>$104628.00</td>\n",
       "      <td>NaN</td>\n",
       "    </tr>\n",
       "    <tr>\n",
       "      <th>19</th>\n",
       "      <td>HROMA JR,  JOHN</td>\n",
       "      <td>SERGEANT</td>\n",
       "      <td>POLICE</td>\n",
       "      <td>F</td>\n",
       "      <td>Salary</td>\n",
       "      <td>NaN</td>\n",
       "      <td>$107988.00</td>\n",
       "      <td>NaN</td>\n",
       "    </tr>\n",
       "  </tbody>\n",
       "</table>\n",
       "</div>"
      ],
      "text/plain": [
       "                  Name       Job Titles Department Full or Part-Time  \\\n",
       "0     ALLISON,  PAUL W       LIEUTENANT       FIRE                 F   \n",
       "1      BRUNO,  KEVIN D         SERGEANT     POLICE                 F   \n",
       "2      COOPER,  JOHN E   LIEUTENANT-EMT       FIRE                 F   \n",
       "3     CRESPO,  VILMA I       STAFF ASST        LAW                 F   \n",
       "4     DOLAN,  ROBERT J         SERGEANT     POLICE                 F   \n",
       "5     DUBERT,  TOMASZ     PARAMEDIC I/C       FIRE                 F   \n",
       "6      EDWARDS,  TIM P       LIEUTENANT       FIRE                 F   \n",
       "7      ELKINS,  ERIC J         SERGEANT     POLICE                 F   \n",
       "8     ESTRADA,  LUIS F   POLICE OFFICER     POLICE                 F   \n",
       "9      EWING,  MARIE A        CLERK III     POLICE                 F   \n",
       "10       FINN,  SEAN P      FIREFIGHTER       FIRE                 F   \n",
       "11    FITCH,  JORDAN M        LAW CLERK        LAW                 F   \n",
       "12  FREELON,  CHERYL N   POLICE OFFICER     POLICE                 F   \n",
       "13     GRAFF,  KEVIN M         SERGEANT     POLICE                 F   \n",
       "14      GUNN,  ISSAC J  FIREFIGHTER-EMT       FIRE                 F   \n",
       "15   HARRIS,  DANIEL J   POLICE OFFICER     POLICE                 F   \n",
       "16    HATTULA,  CARL J         SERGEANT     POLICE                 F   \n",
       "17     HILL,  LATINA P        PARAMEDIC       FIRE                 F   \n",
       "18     HOLLER,  JOEL P         SERGEANT     POLICE                 F   \n",
       "19    HROMA JR,  JOHN          SERGEANT     POLICE                 F   \n",
       "\n",
       "   Salary or Hourly  Typical Hours Annual Salary Hourly Rate  \n",
       "0            Salary            NaN    $107790.00         NaN  \n",
       "1            Salary            NaN    $104628.00         NaN  \n",
       "2            Salary            NaN    $114324.00         NaN  \n",
       "3            Salary            NaN     $76932.00         NaN  \n",
       "4            Salary            NaN    $111474.00         NaN  \n",
       "5            Salary            NaN     $91080.00         NaN  \n",
       "6            Salary            NaN    $114846.00         NaN  \n",
       "7            Salary            NaN    $104628.00         NaN  \n",
       "8            Salary            NaN     $96060.00         NaN  \n",
       "9            Salary            NaN     $53076.00         NaN  \n",
       "10           Salary            NaN     $87006.00         NaN  \n",
       "11           Hourly           35.0           NaN      $14.51  \n",
       "12           Salary            NaN     $96060.00         NaN  \n",
       "13           Salary            NaN    $111474.00         NaN  \n",
       "14           Salary            NaN     $80868.00         NaN  \n",
       "15           Salary            NaN     $48078.00         NaN  \n",
       "16           Salary            NaN    $107988.00         NaN  \n",
       "17           Salary            NaN     $72510.00         NaN  \n",
       "18           Salary            NaN    $104628.00         NaN  \n",
       "19           Salary            NaN    $107988.00         NaN  "
      ]
     },
     "execution_count": 4,
     "metadata": {},
     "output_type": "execute_result"
    }
   ],
   "source": [
    "\n",
    "print(data.shape)\n",
    "data.head(20)\n"
   ]
  },
  {
   "cell_type": "markdown",
   "metadata": {},
   "source": [
    "We see from looking at the `head` function that there is quite a bit of missing data. Let's examine how much missing data is in each column. Produce this output in the cell below"
   ]
  },
  {
   "cell_type": "code",
   "execution_count": 5,
   "metadata": {},
   "outputs": [
    {
     "data": {
      "text/plain": [
       "Name                     0\n",
       "Job Titles               0\n",
       "Department               0\n",
       "Full or Part-Time        0\n",
       "Salary or Hourly         0\n",
       "Typical Hours        24775\n",
       "Annual Salary         7883\n",
       "Hourly Rate          24775\n",
       "dtype: int64"
      ]
     },
     "execution_count": 5,
     "metadata": {},
     "output_type": "execute_result"
    }
   ],
   "source": [
    "data.isnull().sum()"
   ]
  },
  {
   "cell_type": "markdown",
   "metadata": {},
   "source": [
    "Let's also look at the count of hourly vs. salaried employees. Write the code in the cell below"
   ]
  },
  {
   "cell_type": "code",
   "execution_count": 6,
   "metadata": {},
   "outputs": [
    {
     "data": {
      "text/plain": [
       "Salary    24775\n",
       "Hourly     7883\n",
       "Name: Salary or Hourly, dtype: int64"
      ]
     },
     "execution_count": 6,
     "metadata": {},
     "output_type": "execute_result"
    }
   ],
   "source": [
    "data['Salary or Hourly'].value_counts()\n",
    "\n"
   ]
  },
  {
   "cell_type": "markdown",
   "metadata": {},
   "source": [
    "What this information indicates is that the table contains information about two types of employees - salaried and hourly. Some columns apply only to one type of employee while other columns only apply to another kind. This is why there are so many missing values. Therefore, we will not do anything to handle the missing values."
   ]
  },
  {
   "cell_type": "markdown",
   "metadata": {},
   "source": [
    "There are different departments in the city. List all departments and the count of employees in each department."
   ]
  },
  {
   "cell_type": "code",
   "execution_count": 7,
   "metadata": {},
   "outputs": [
    {
     "data": {
      "text/plain": [
       "POLICE                   12973\n",
       "FIRE                      4800\n",
       "STREETS & SAN             2194\n",
       "OEMC                      2044\n",
       "WATER MGMNT               1878\n",
       "AVIATION                  1612\n",
       "TRANSPORTN                1103\n",
       "GENERAL SERVICES           972\n",
       "PUBLIC LIBRARY             932\n",
       "FAMILY & SUPPORT           621\n",
       "FINANCE                    575\n",
       "HEALTH                     516\n",
       "LAW                        405\n",
       "CITY COUNCIL               400\n",
       "BUILDINGS                  266\n",
       "COMMUNITY DEVELOPMENT      214\n",
       "BUSINESS AFFAIRS           168\n",
       "BOARD OF ELECTION          112\n",
       "DoIT                       101\n",
       "PROCUREMENT                 86\n",
       "CITY CLERK                  85\n",
       "MAYOR'S OFFICE              85\n",
       "CULTURAL AFFAIRS            76\n",
       "ANIMAL CONTRL               73\n",
       "HUMAN RESOURCES             68\n",
       "INSPECTOR GEN               63\n",
       "IPRA                        56\n",
       "BUDGET & MGMT               44\n",
       "ADMIN HEARNG                38\n",
       "DISABILITIES                29\n",
       "TREASURER                   24\n",
       "HUMAN RELATIONS             17\n",
       "COPA                        17\n",
       "BOARD OF ETHICS              8\n",
       "POLICE BOARD                 2\n",
       "LICENSE APPL COMM            1\n",
       "Name: Department, dtype: int64"
      ]
     },
     "execution_count": 7,
     "metadata": {},
     "output_type": "execute_result"
    }
   ],
   "source": [
    "data['Department'].value_counts()"
   ]
  },
  {
   "cell_type": "markdown",
   "metadata": {},
   "source": [
    "# Challenge 2 - Hypothesis Tests\n",
    "\n",
    "In this section of the lab, we will test whether the hourly wage of all hourly workers is significantly different from $30/hr. Import the correct one sample test function from scipy and perform the hypothesis test for a 95% two sided confidence interval."
   ]
  },
  {
   "cell_type": "code",
   "execution_count": 8,
   "metadata": {},
   "outputs": [
    {
     "name": "stdout",
     "output_type": "stream",
     "text": [
      "Name                  object\n",
      "Job Titles            object\n",
      "Department            object\n",
      "Full or Part-Time     object\n",
      "Salary or Hourly      object\n",
      "Typical Hours        float64\n",
      "Annual Salary         object\n",
      "Hourly Rate           object\n",
      "dtype: object\n",
      "[nan '$14.51' '$19.66' '$46.10' '$35.60' '$2.65' '$17.50' '$20.77'\n",
      " '$25.10' '$36.21' '$44.88' '$37.25' '$48.25' '$40.20' '$36.13' '$28.48'\n",
      " '$32.25' '$21.20' '$20.12' '$13.15' '$21.98' '$15.07' '$19.50' '$32.04'\n",
      " '$34.57' '$8.25' '$47.44' '$46.35' '$32.59' '$36.22' '$14.40' '$30.51'\n",
      " '$45.07' '$19.19' '$20.11' '$49.10' '$14.75' '$18.34' '$9.46' '$44.25'\n",
      " '$22.14' '$35.57' '$21.43' '$23.31' '$44.55' '$16.17' '$50.25' '$38.33'\n",
      " '$12.00' '$53.10' '$12.49' '$24.42' '$52.18' '$13.80' '$41.10' '$22.13'\n",
      " '$41.70' '$37.45' '$32.16' '$53.90' '$45.35' '$17.15' '$19.00' '$10.00'\n",
      " '$30.20' '$17.25' '$16.71' '$21.09' '$45.43' '$22.00' '$47.50' '$15.00'\n",
      " '$52.10' '$13.00' '$48.90' '$38.14' '$33.56' '$22.12' '$9.27' '$13.75'\n",
      " '$45.75' '$24.12' '$8.50' '$71.29' '$20.88' '$26.32' '$43.03' '$18.00'\n",
      " '$10.50' '$46.47' '$46.20' '$48.85' '$11.00' '$37.56' '$41.00' '$41.30'\n",
      " '$46.25' '$22.75' '$19.61' '$20.24' '$36.18' '$30.21' '$47.85' '$37.08'\n",
      " '$50.50' '$24.41' '$24.63' '$17.74' '$14.00' '$32.09' '$41.72' '$40.70'\n",
      " '$9.50' '$22.88' '$15.25' '$32.71' '$38.35' '$50.12' '$50.80' '$33.38'\n",
      " '$32.45' '$44.59' '$21.62' '$49.37' '$14.25' '$47.80' '$17.33' '$19.15'\n",
      " '$52.52' '$34.66' '$37.47' '$20.00' '$27.66' '$47.33' '$78.91' '$45.93'\n",
      " '$57.95' '$96.00' '$39.05' '$49.52' '$28.00' '$20.94' '$49.95' '$26.33'\n",
      " '$36.75' '$25.00' '$28.14' '$15.78' '$26.06' '$47.00' '$42.05' '$50.10'\n",
      " '$46.75' '$12.50' '$48.20' '$11.50' '$50.20' '$26.11' '$17.00' '$21.55'\n",
      " '$15.75' '$15.23' '$19.47' '$35.50' '$16.49' '$24.49' '$19.30' '$35.43']\n",
      "[nan '14.51' '19.66' '46.10' '35.60' '2.65' '17.50' '20.77' '25.10'\n",
      " '36.21' '44.88' '37.25' '48.25' '40.20' '36.13' '28.48' '32.25' '21.20'\n",
      " '20.12' '13.15' '21.98' '15.07' '19.50' '32.04' '34.57' '8.25' '47.44'\n",
      " '46.35' '32.59' '36.22' '14.40' '30.51' '45.07' '19.19' '20.11' '49.10'\n",
      " '14.75' '18.34' '9.46' '44.25' '22.14' '35.57' '21.43' '23.31' '44.55'\n",
      " '16.17' '50.25' '38.33' '12.00' '53.10' '12.49' '24.42' '52.18' '13.80'\n",
      " '41.10' '22.13' '41.70' '37.45' '32.16' '53.90' '45.35' '17.15' '19.00'\n",
      " '10.00' '30.20' '17.25' '16.71' '21.09' '45.43' '22.00' '47.50' '15.00'\n",
      " '52.10' '13.00' '48.90' '38.14' '33.56' '22.12' '9.27' '13.75' '45.75'\n",
      " '24.12' '8.50' '71.29' '20.88' '26.32' '43.03' '18.00' '10.50' '46.47'\n",
      " '46.20' '48.85' '11.00' '37.56' '41.00' '41.30' '46.25' '22.75' '19.61'\n",
      " '20.24' '36.18' '30.21' '47.85' '37.08' '50.50' '24.41' '24.63' '17.74'\n",
      " '14.00' '32.09' '41.72' '40.70' '9.50' '22.88' '15.25' '32.71' '38.35'\n",
      " '50.12' '50.80' '33.38' '32.45' '44.59' '21.62' '49.37' '14.25' '47.80'\n",
      " '17.33' '19.15' '52.52' '34.66' '37.47' '20.00' '27.66' '47.33' '78.91'\n",
      " '45.93' '57.95' '96.00' '39.05' '49.52' '28.00' '20.94' '49.95' '26.33'\n",
      " '36.75' '25.00' '28.14' '15.78' '26.06' '47.00' '42.05' '50.10' '46.75'\n",
      " '12.50' '48.20' '11.50' '50.20' '26.11' '17.00' '21.55' '15.75' '15.23'\n",
      " '19.47' '35.50' '16.49' '24.49' '19.30' '35.43']\n"
     ]
    }
   ],
   "source": [
    "print(data.dtypes)\n",
    "\n",
    "print(data['Hourly Rate'].unique())\n",
    "\n",
    "# i first need to get the hourly rate to numerical. so i need to drop the $.\n",
    "\n",
    "data['hourly_clean'] = data['Hourly Rate'].replace({'\\$':''}, regex = True)\n",
    "\n",
    "print(data['hourly_clean'].unique())\n",
    "# now this collumn is clean i need to convert the data to numerical as it is now an object\n",
    "\n",
    "data['hourly_clean']= data['hourly_clean'].astype(float, errors = 'ignore')\n"
   ]
  },
  {
   "cell_type": "code",
   "execution_count": 9,
   "metadata": {},
   "outputs": [
    {
     "name": "stdout",
     "output_type": "stream",
     "text": [
      "(7883, 9)\n"
     ]
    },
    {
     "data": {
      "text/html": [
       "<div>\n",
       "<style scoped>\n",
       "    .dataframe tbody tr th:only-of-type {\n",
       "        vertical-align: middle;\n",
       "    }\n",
       "\n",
       "    .dataframe tbody tr th {\n",
       "        vertical-align: top;\n",
       "    }\n",
       "\n",
       "    .dataframe thead th {\n",
       "        text-align: right;\n",
       "    }\n",
       "</style>\n",
       "<table border=\"1\" class=\"dataframe\">\n",
       "  <thead>\n",
       "    <tr style=\"text-align: right;\">\n",
       "      <th></th>\n",
       "      <th>Name</th>\n",
       "      <th>Job Titles</th>\n",
       "      <th>Department</th>\n",
       "      <th>Full or Part-Time</th>\n",
       "      <th>Salary or Hourly</th>\n",
       "      <th>Typical Hours</th>\n",
       "      <th>Annual Salary</th>\n",
       "      <th>Hourly Rate</th>\n",
       "      <th>hourly_clean</th>\n",
       "    </tr>\n",
       "  </thead>\n",
       "  <tbody>\n",
       "    <tr>\n",
       "      <th>11</th>\n",
       "      <td>FITCH,  JORDAN M</td>\n",
       "      <td>LAW CLERK</td>\n",
       "      <td>LAW</td>\n",
       "      <td>F</td>\n",
       "      <td>Hourly</td>\n",
       "      <td>35.0</td>\n",
       "      <td>NaN</td>\n",
       "      <td>$14.51</td>\n",
       "      <td>14.51</td>\n",
       "    </tr>\n",
       "    <tr>\n",
       "      <th>54</th>\n",
       "      <td>ABASCAL,  REECE E</td>\n",
       "      <td>TRAFFIC CONTROL AIDE-HOURLY</td>\n",
       "      <td>OEMC</td>\n",
       "      <td>P</td>\n",
       "      <td>Hourly</td>\n",
       "      <td>20.0</td>\n",
       "      <td>NaN</td>\n",
       "      <td>$19.66</td>\n",
       "      <td>19.66</td>\n",
       "    </tr>\n",
       "    <tr>\n",
       "      <th>56</th>\n",
       "      <td>ABBATACOLA,  ROBERT J</td>\n",
       "      <td>ELECTRICAL MECHANIC</td>\n",
       "      <td>AVIATION</td>\n",
       "      <td>F</td>\n",
       "      <td>Hourly</td>\n",
       "      <td>40.0</td>\n",
       "      <td>NaN</td>\n",
       "      <td>$46.10</td>\n",
       "      <td>46.10</td>\n",
       "    </tr>\n",
       "    <tr>\n",
       "      <th>57</th>\n",
       "      <td>ABBATE,  JOSEPH L</td>\n",
       "      <td>POOL MOTOR TRUCK DRIVER</td>\n",
       "      <td>STREETS &amp; SAN</td>\n",
       "      <td>F</td>\n",
       "      <td>Hourly</td>\n",
       "      <td>40.0</td>\n",
       "      <td>NaN</td>\n",
       "      <td>$35.60</td>\n",
       "      <td>35.60</td>\n",
       "    </tr>\n",
       "    <tr>\n",
       "      <th>60</th>\n",
       "      <td>ABBOTT,  BETTY L</td>\n",
       "      <td>FOSTER GRANDPARENT</td>\n",
       "      <td>FAMILY &amp; SUPPORT</td>\n",
       "      <td>P</td>\n",
       "      <td>Hourly</td>\n",
       "      <td>20.0</td>\n",
       "      <td>NaN</td>\n",
       "      <td>$2.65</td>\n",
       "      <td>2.65</td>\n",
       "    </tr>\n",
       "  </tbody>\n",
       "</table>\n",
       "</div>"
      ],
      "text/plain": [
       "                     Name                   Job Titles        Department  \\\n",
       "11       FITCH,  JORDAN M                    LAW CLERK               LAW   \n",
       "54      ABASCAL,  REECE E  TRAFFIC CONTROL AIDE-HOURLY              OEMC   \n",
       "56  ABBATACOLA,  ROBERT J          ELECTRICAL MECHANIC          AVIATION   \n",
       "57     ABBATE,  JOSEPH L       POOL MOTOR TRUCK DRIVER     STREETS & SAN   \n",
       "60       ABBOTT,  BETTY L           FOSTER GRANDPARENT  FAMILY & SUPPORT   \n",
       "\n",
       "   Full or Part-Time Salary or Hourly  Typical Hours Annual Salary  \\\n",
       "11                 F           Hourly           35.0           NaN   \n",
       "54                 P           Hourly           20.0           NaN   \n",
       "56                 F           Hourly           40.0           NaN   \n",
       "57                 F           Hourly           40.0           NaN   \n",
       "60                 P           Hourly           20.0           NaN   \n",
       "\n",
       "   Hourly Rate  hourly_clean  \n",
       "11      $14.51         14.51  \n",
       "54      $19.66         19.66  \n",
       "56      $46.10         46.10  \n",
       "57      $35.60         35.60  \n",
       "60       $2.65          2.65  "
      ]
     },
     "execution_count": 9,
     "metadata": {},
     "output_type": "execute_result"
    }
   ],
   "source": [
    "# because my tests come back as nan i will copy the collumn i need to work with and clean that. Then use it for my tests\n",
    "\n",
    "clean_hourly_rate = data.copy()\n",
    "\n",
    "clean_hourly_rate.dropna(subset=['hourly_clean'], inplace=True)\n",
    "\n",
    "print(clean_hourly_rate.shape)\n",
    "\n",
    "clean_hourly_rate.head()"
   ]
  },
  {
   "cell_type": "code",
   "execution_count": 10,
   "metadata": {},
   "outputs": [],
   "source": [
    "from scipy.stats import ttest_1samp\n",
    "\n",
    "# H0: mean hourly wage in dollars = 30\n",
    "# H1: mean hourly wage in dollars != 30\n",
    "\n",
    "stat, pval = ttest_1samp(clean_hourly_rate['hourly_clean'], 30)"
   ]
  },
  {
   "cell_type": "code",
   "execution_count": 11,
   "metadata": {},
   "outputs": [
    {
     "name": "stdout",
     "output_type": "stream",
     "text": [
      "stat is  21.003532193332216\n",
      "pvalue for the two-tailed test is  2.4048011351057683e-95\n",
      "pvalue for the one-tailed test is  1.2024005675528841e-95\n"
     ]
    }
   ],
   "source": [
    "print('stat is ', stat)\n",
    "print('pvalue for the two-tailed test is ', pval)\n",
    "\n",
    "print('pvalue for the one-tailed test is ', pval/2)\n",
    "\n",
    "#P value really low so we reject the H0"
   ]
  },
  {
   "cell_type": "markdown",
   "metadata": {},
   "source": [
    "We are also curious about salaries in the police force. The chief of police in Chicago claimed in a press briefing that salaries this year are higher than last year's mean of $86000/year a year for all salaried employees. Test this one sided hypothesis using a 95% confidence interval.\n",
    "\n",
    "Hint: A one tailed test has a p-value that is half of the two tailed p-value. If our hypothesis is greater than, then to reject, the test statistic must also be positive."
   ]
  },
  {
   "cell_type": "code",
   "execution_count": 12,
   "metadata": {},
   "outputs": [
    {
     "name": "stdout",
     "output_type": "stream",
     "text": [
      "['$107790.00' '$104628.00' '$114324.00' ... '$185004.00' '$64056.00'\n",
      " '$81672.00']\n",
      "['107790.00' '104628.00' '114324.00' ... '185004.00' '64056.00' '81672.00']\n"
     ]
    },
    {
     "data": {
      "text/plain": [
       "dtype('float64')"
      ]
     },
     "execution_count": 12,
     "metadata": {},
     "output_type": "execute_result"
    }
   ],
   "source": [
    "#lets do the same as the hourly rate. starting by cleaning the values\n",
    "print(data['Annual Salary'].unique())\n",
    "\n",
    "data['Annual Salary'] = data['Annual Salary'].replace({'\\$':''}, regex = True)\n",
    "\n",
    "print(data['Annual Salary'].unique())\n",
    "\n",
    "data['ann_clean']= data['Annual Salary'].astype(float, errors = 'ignore')\n",
    "\n",
    "data['ann_clean'].dtypes"
   ]
  },
  {
   "cell_type": "code",
   "execution_count": 13,
   "metadata": {},
   "outputs": [
    {
     "name": "stdout",
     "output_type": "stream",
     "text": [
      "(24775, 10)\n"
     ]
    },
    {
     "data": {
      "text/html": [
       "<div>\n",
       "<style scoped>\n",
       "    .dataframe tbody tr th:only-of-type {\n",
       "        vertical-align: middle;\n",
       "    }\n",
       "\n",
       "    .dataframe tbody tr th {\n",
       "        vertical-align: top;\n",
       "    }\n",
       "\n",
       "    .dataframe thead th {\n",
       "        text-align: right;\n",
       "    }\n",
       "</style>\n",
       "<table border=\"1\" class=\"dataframe\">\n",
       "  <thead>\n",
       "    <tr style=\"text-align: right;\">\n",
       "      <th></th>\n",
       "      <th>Name</th>\n",
       "      <th>Job Titles</th>\n",
       "      <th>Department</th>\n",
       "      <th>Full or Part-Time</th>\n",
       "      <th>Salary or Hourly</th>\n",
       "      <th>Typical Hours</th>\n",
       "      <th>Annual Salary</th>\n",
       "      <th>Hourly Rate</th>\n",
       "      <th>hourly_clean</th>\n",
       "      <th>ann_clean</th>\n",
       "    </tr>\n",
       "  </thead>\n",
       "  <tbody>\n",
       "    <tr>\n",
       "      <th>0</th>\n",
       "      <td>ALLISON,  PAUL W</td>\n",
       "      <td>LIEUTENANT</td>\n",
       "      <td>FIRE</td>\n",
       "      <td>F</td>\n",
       "      <td>Salary</td>\n",
       "      <td>NaN</td>\n",
       "      <td>107790.00</td>\n",
       "      <td>NaN</td>\n",
       "      <td>NaN</td>\n",
       "      <td>107790.0</td>\n",
       "    </tr>\n",
       "    <tr>\n",
       "      <th>1</th>\n",
       "      <td>BRUNO,  KEVIN D</td>\n",
       "      <td>SERGEANT</td>\n",
       "      <td>POLICE</td>\n",
       "      <td>F</td>\n",
       "      <td>Salary</td>\n",
       "      <td>NaN</td>\n",
       "      <td>104628.00</td>\n",
       "      <td>NaN</td>\n",
       "      <td>NaN</td>\n",
       "      <td>104628.0</td>\n",
       "    </tr>\n",
       "    <tr>\n",
       "      <th>2</th>\n",
       "      <td>COOPER,  JOHN E</td>\n",
       "      <td>LIEUTENANT-EMT</td>\n",
       "      <td>FIRE</td>\n",
       "      <td>F</td>\n",
       "      <td>Salary</td>\n",
       "      <td>NaN</td>\n",
       "      <td>114324.00</td>\n",
       "      <td>NaN</td>\n",
       "      <td>NaN</td>\n",
       "      <td>114324.0</td>\n",
       "    </tr>\n",
       "    <tr>\n",
       "      <th>3</th>\n",
       "      <td>CRESPO,  VILMA I</td>\n",
       "      <td>STAFF ASST</td>\n",
       "      <td>LAW</td>\n",
       "      <td>F</td>\n",
       "      <td>Salary</td>\n",
       "      <td>NaN</td>\n",
       "      <td>76932.00</td>\n",
       "      <td>NaN</td>\n",
       "      <td>NaN</td>\n",
       "      <td>76932.0</td>\n",
       "    </tr>\n",
       "    <tr>\n",
       "      <th>4</th>\n",
       "      <td>DOLAN,  ROBERT J</td>\n",
       "      <td>SERGEANT</td>\n",
       "      <td>POLICE</td>\n",
       "      <td>F</td>\n",
       "      <td>Salary</td>\n",
       "      <td>NaN</td>\n",
       "      <td>111474.00</td>\n",
       "      <td>NaN</td>\n",
       "      <td>NaN</td>\n",
       "      <td>111474.0</td>\n",
       "    </tr>\n",
       "  </tbody>\n",
       "</table>\n",
       "</div>"
      ],
      "text/plain": [
       "               Name      Job Titles Department Full or Part-Time  \\\n",
       "0  ALLISON,  PAUL W      LIEUTENANT       FIRE                 F   \n",
       "1   BRUNO,  KEVIN D        SERGEANT     POLICE                 F   \n",
       "2   COOPER,  JOHN E  LIEUTENANT-EMT       FIRE                 F   \n",
       "3  CRESPO,  VILMA I      STAFF ASST        LAW                 F   \n",
       "4  DOLAN,  ROBERT J        SERGEANT     POLICE                 F   \n",
       "\n",
       "  Salary or Hourly  Typical Hours Annual Salary Hourly Rate  hourly_clean  \\\n",
       "0           Salary            NaN     107790.00         NaN           NaN   \n",
       "1           Salary            NaN     104628.00         NaN           NaN   \n",
       "2           Salary            NaN     114324.00         NaN           NaN   \n",
       "3           Salary            NaN      76932.00         NaN           NaN   \n",
       "4           Salary            NaN     111474.00         NaN           NaN   \n",
       "\n",
       "   ann_clean  \n",
       "0   107790.0  \n",
       "1   104628.0  \n",
       "2   114324.0  \n",
       "3    76932.0  \n",
       "4   111474.0  "
      ]
     },
     "execution_count": 13,
     "metadata": {},
     "output_type": "execute_result"
    }
   ],
   "source": [
    "clean_ann = data.copy()\n",
    "\n",
    "clean_ann.dropna(subset=['ann_clean'], inplace=True)\n",
    "\n",
    "print(clean_ann.shape)\n",
    "\n",
    "clean_ann.head()\n",
    "\n"
   ]
  },
  {
   "cell_type": "code",
   "execution_count": 14,
   "metadata": {},
   "outputs": [
    {
     "name": "stdout",
     "output_type": "stream",
     "text": [
      "stat is   11.579263110111727\n",
      "pvalue for the two-tailed test is  6.306554670916399e-31\n",
      "pvalue for the one-tailed test is  3.1532773354581996e-31\n"
     ]
    }
   ],
   "source": [
    "# H0: mean salary of >=86000\n",
    "# H1: mean salary of < 86000\n",
    "\n",
    "stat, pval = ttest_1samp(clean_ann['ann_clean'], 86000)\n",
    "\n",
    "print('stat is  ', stat)\n",
    "print('pvalue for the two-tailed test is ', pval)\n",
    "\n",
    "print('pvalue for the one-tailed test is ', pval/2)\n",
    "\n",
    "#P value really low so we reject the H0"
   ]
  },
  {
   "cell_type": "markdown",
   "metadata": {},
   "source": [
    "Using the `crosstab` function, find the department that has the most hourly workers. "
   ]
  },
  {
   "cell_type": "code",
   "execution_count": 15,
   "metadata": {},
   "outputs": [],
   "source": [
    "# before i can make the crosstab i will have to clean the hour data too. \n",
    "# but if i select the hourly rate copy i have no nan in the typical hour column."
   ]
  },
  {
   "cell_type": "code",
   "execution_count": 16,
   "metadata": {},
   "outputs": [
    {
     "data": {
      "text/plain": [
       "Department\n",
       "All                      7883\n",
       "STREETS & SAN            1873\n",
       "WATER MGMNT              1512\n",
       "OEMC                     1212\n",
       "AVIATION                 1056\n",
       "GENERAL SERVICES          767\n",
       "TRANSPORTN                707\n",
       "FAMILY & SUPPORT          300\n",
       "PUBLIC LIBRARY            224\n",
       "CITY COUNCIL               52\n",
       "LAW                        44\n",
       "FINANCE                    43\n",
       "POLICE                     32\n",
       "ANIMAL CONTRL              16\n",
       "CULTURAL AFFAIRS           10\n",
       "BUSINESS AFFAIRS            8\n",
       "MAYOR'S OFFICE              7\n",
       "PROCUREMENT                 4\n",
       "COMMUNITY DEVELOPMENT       4\n",
       "HEALTH                      4\n",
       "CITY CLERK                  3\n",
       "FIRE                        2\n",
       "HUMAN RESOURCES             1\n",
       "TREASURER                   1\n",
       "BUDGET & MGMT               1\n",
       "Name: All, dtype: int64"
      ]
     },
     "execution_count": 16,
     "metadata": {},
     "output_type": "execute_result"
    }
   ],
   "source": [
    "most_workers = pd.crosstab(clean_hourly_rate['Department'],clean_hourly_rate['Typical Hours'], margins=True)\n",
    "\n",
    "most_workers\n",
    "\n",
    "#i prefer to have this sorted descending on the All collumn but i dont know how to do this yet.\n",
    "\n",
    "most_workers_list=most_workers['All']\n",
    "\n",
    "most_workers_list.sort_values(ascending=False)\n",
    "\n",
    "# I think i managed by a workaround, not sure though."
   ]
  },
  {
   "cell_type": "markdown",
   "metadata": {},
   "source": [
    "The workers from the department with the most hourly workers have complained that their hourly wage is less than $35/hour. Using a one sample t-test, test this one-sided hypothesis at the 95% confidence level."
   ]
  },
  {
   "cell_type": "code",
   "execution_count": 17,
   "metadata": {},
   "outputs": [
    {
     "name": "stdout",
     "output_type": "stream",
     "text": [
      "1873\n"
     ]
    },
    {
     "data": {
      "text/html": [
       "<div>\n",
       "<style scoped>\n",
       "    .dataframe tbody tr th:only-of-type {\n",
       "        vertical-align: middle;\n",
       "    }\n",
       "\n",
       "    .dataframe tbody tr th {\n",
       "        vertical-align: top;\n",
       "    }\n",
       "\n",
       "    .dataframe thead th {\n",
       "        text-align: right;\n",
       "    }\n",
       "</style>\n",
       "<table border=\"1\" class=\"dataframe\">\n",
       "  <thead>\n",
       "    <tr style=\"text-align: right;\">\n",
       "      <th></th>\n",
       "      <th>Name</th>\n",
       "      <th>Job Titles</th>\n",
       "      <th>Department</th>\n",
       "      <th>Full or Part-Time</th>\n",
       "      <th>Salary or Hourly</th>\n",
       "      <th>Typical Hours</th>\n",
       "      <th>Annual Salary</th>\n",
       "      <th>Hourly Rate</th>\n",
       "      <th>hourly_clean</th>\n",
       "    </tr>\n",
       "  </thead>\n",
       "  <tbody>\n",
       "    <tr>\n",
       "      <th>57</th>\n",
       "      <td>ABBATE,  JOSEPH L</td>\n",
       "      <td>POOL MOTOR TRUCK DRIVER</td>\n",
       "      <td>STREETS &amp; SAN</td>\n",
       "      <td>F</td>\n",
       "      <td>Hourly</td>\n",
       "      <td>40.0</td>\n",
       "      <td>NaN</td>\n",
       "      <td>$35.60</td>\n",
       "      <td>35.60</td>\n",
       "    </tr>\n",
       "    <tr>\n",
       "      <th>73</th>\n",
       "      <td>ABDUL-SHAKUR,  TAHIR</td>\n",
       "      <td>GENERAL LABORER - DSS</td>\n",
       "      <td>STREETS &amp; SAN</td>\n",
       "      <td>F</td>\n",
       "      <td>Hourly</td>\n",
       "      <td>40.0</td>\n",
       "      <td>NaN</td>\n",
       "      <td>$20.77</td>\n",
       "      <td>20.77</td>\n",
       "    </tr>\n",
       "    <tr>\n",
       "      <th>76</th>\n",
       "      <td>ABERCROMBIE,  TIMOTHY</td>\n",
       "      <td>MOTOR TRUCK DRIVER</td>\n",
       "      <td>STREETS &amp; SAN</td>\n",
       "      <td>F</td>\n",
       "      <td>Hourly</td>\n",
       "      <td>40.0</td>\n",
       "      <td>NaN</td>\n",
       "      <td>$35.60</td>\n",
       "      <td>35.60</td>\n",
       "    </tr>\n",
       "    <tr>\n",
       "      <th>85</th>\n",
       "      <td>ABRAMS,  DANIELLE T</td>\n",
       "      <td>SANITATION LABORER</td>\n",
       "      <td>STREETS &amp; SAN</td>\n",
       "      <td>F</td>\n",
       "      <td>Hourly</td>\n",
       "      <td>40.0</td>\n",
       "      <td>NaN</td>\n",
       "      <td>$36.21</td>\n",
       "      <td>36.21</td>\n",
       "    </tr>\n",
       "    <tr>\n",
       "      <th>88</th>\n",
       "      <td>ABRAMS,  SAMUEL A</td>\n",
       "      <td>POOL MOTOR TRUCK DRIVER</td>\n",
       "      <td>STREETS &amp; SAN</td>\n",
       "      <td>F</td>\n",
       "      <td>Hourly</td>\n",
       "      <td>40.0</td>\n",
       "      <td>NaN</td>\n",
       "      <td>$35.60</td>\n",
       "      <td>35.60</td>\n",
       "    </tr>\n",
       "  </tbody>\n",
       "</table>\n",
       "</div>"
      ],
      "text/plain": [
       "                      Name               Job Titles     Department  \\\n",
       "57      ABBATE,  JOSEPH L   POOL MOTOR TRUCK DRIVER  STREETS & SAN   \n",
       "73   ABDUL-SHAKUR,  TAHIR     GENERAL LABORER - DSS  STREETS & SAN   \n",
       "76  ABERCROMBIE,  TIMOTHY        MOTOR TRUCK DRIVER  STREETS & SAN   \n",
       "85     ABRAMS,  DANIELLE T       SANITATION LABORER  STREETS & SAN   \n",
       "88       ABRAMS,  SAMUEL A  POOL MOTOR TRUCK DRIVER  STREETS & SAN   \n",
       "\n",
       "   Full or Part-Time Salary or Hourly  Typical Hours Annual Salary  \\\n",
       "57                 F           Hourly           40.0           NaN   \n",
       "73                 F           Hourly           40.0           NaN   \n",
       "76                 F           Hourly           40.0           NaN   \n",
       "85                 F           Hourly           40.0           NaN   \n",
       "88                 F           Hourly           40.0           NaN   \n",
       "\n",
       "   Hourly Rate  hourly_clean  \n",
       "57      $35.60         35.60  \n",
       "73      $20.77         20.77  \n",
       "76      $35.60         35.60  \n",
       "85      $36.21         36.21  \n",
       "88      $35.60         35.60  "
      ]
     },
     "execution_count": 17,
     "metadata": {},
     "output_type": "execute_result"
    }
   ],
   "source": [
    "workers = clean_hourly_rate[clean_hourly_rate['Department'] == \"STREETS & SAN\"]\n",
    "\n",
    "print(len(workers))\n",
    "workers.head()\n"
   ]
  },
  {
   "cell_type": "code",
   "execution_count": 18,
   "metadata": {},
   "outputs": [
    {
     "name": "stdout",
     "output_type": "stream",
     "text": [
      "stat is   -7.172610090911691\n",
      "pvalue for the two-tailed test is  1.0552486304260417e-12\n",
      "pvalue for the one-tailed test is  5.276243152130208e-13\n"
     ]
    }
   ],
   "source": [
    "stat, pval = ttest_1samp(workers['hourly_clean'], 35)\n",
    "\n",
    "print('stat is  ', stat)\n",
    "print('pvalue for the two-tailed test is ', pval)\n",
    "\n",
    "print('pvalue for the one-tailed test is ', pval/2)"
   ]
  },
  {
   "cell_type": "markdown",
   "metadata": {},
   "source": [
    "# Challenge 3: To practice - Constructing Confidence Intervals\n",
    "\n",
    "While testing our hypothesis is a great way to gather empirical evidence for accepting or rejecting the hypothesis, another way to gather evidence is by creating a confidence interval. A confidence interval gives us information about the true mean of the population. So for a 95% confidence interval, we are 95% sure that the mean of the population is within the confidence interval. \n",
    ").\n",
    "\n",
    "To read more about confidence intervals, click [here](https://en.wikipedia.org/wiki/Confidence_interval).\n",
    "\n",
    "\n",
    "In the cell below, we will construct a 95% confidence interval for the mean hourly wage of all hourly workers. \n",
    "\n",
    "The confidence interval is computed in SciPy using the `t.interval` function. You can read more about this function [here](https://docs.scipy.org/doc/scipy-0.14.0/reference/generated/scipy.stats.t.html).\n",
    "\n",
    "To compute the confidence interval of the hourly wage, use the 0.95 for the confidence level, number of rows - 1 for degrees of freedom, the mean of the sample for the location parameter and the standard error for the scale. The standard error can be computed using [this](https://docs.scipy.org/doc/scipy/reference/generated/scipy.stats.sem.html) function in SciPy."
   ]
  },
  {
   "cell_type": "code",
   "execution_count": 20,
   "metadata": {},
   "outputs": [
    {
     "name": "stdout",
     "output_type": "stream",
     "text": [
      "confidence interval is  (33.81222579024323, 34.32230704477966) .\n"
     ]
    }
   ],
   "source": [
    "# we can find a confidence interval for the population based on our sample\n",
    "import scipy.stats\n",
    "\n",
    "confidence_level = 0.95\n",
    "degrees_freedom = len(workers) - 1\n",
    "sample_mean = np.mean(workers['hourly_clean'])\n",
    "sample_standard_error = scipy.stats.sem(workers['hourly_clean'])\n",
    "\n",
    "confidence_interval = scipy.stats.t.interval(confidence_level, \n",
    "                                             degrees_freedom, \n",
    "                                             sample_mean, \n",
    "                                             sample_standard_error)\n",
    "\n",
    "print( 'confidence interval is ', confidence_interval, '.' )\n",
    "\n",
    "# I am 95% sure that the mean wage of the workers is between $33.81 and $34.32  "
   ]
  },
  {
   "cell_type": "markdown",
   "metadata": {},
   "source": [
    "Now construct the 95% confidence interval for all salaried employeed in the police in the cell below."
   ]
  },
  {
   "cell_type": "code",
   "execution_count": 22,
   "metadata": {},
   "outputs": [
    {
     "name": "stdout",
     "output_type": "stream",
     "text": [
      "I am 95% sure that the mean annual salary of the workers is between  (87256.70698119195, 87768.85350155288) .\n"
     ]
    }
   ],
   "source": [
    "confidence_level = 0.95\n",
    "degrees_freedom = len(clean_ann['ann_clean']) - 1\n",
    "sample_mean = np.mean(clean_ann['ann_clean'])\n",
    "sample_standard_error = scipy.stats.sem(clean_ann['ann_clean'])\n",
    "\n",
    "confidence_interval = scipy.stats.t.interval(confidence_level, \n",
    "                                             degrees_freedom, \n",
    "                                             sample_mean, \n",
    "                                             sample_standard_error)\n",
    "\n",
    "print( 'I am 95% sure that the mean annual salary of the workers is between ', confidence_interval, '.' )\n"
   ]
  },
  {
   "cell_type": "markdown",
   "metadata": {},
   "source": [
    "# Bonus Challenge - Hypothesis Tests of Proportions\n",
    "\n",
    "Another type of one sample test is a hypothesis test of proportions. In this test, we examine whether the proportion of a group in our sample is significantly different than a fraction. \n",
    "\n",
    "You can read more about one sample proportion tests [here](http://sphweb.bumc.bu.edu/otlt/MPH-Modules/BS/SAS/SAS6-CategoricalData/SAS6-CategoricalData2.html).\n",
    "\n",
    "In the cell below, use the `proportions_ztest` function from `statsmodels` to perform a hypothesis test that will determine whether the number of hourly workers in the City of Chicago is significantly different from 25% at the 95% confidence level."
   ]
  },
  {
   "cell_type": "code",
   "execution_count": 13,
   "metadata": {},
   "outputs": [],
   "source": [
    "# Your code here:\n",
    "\n"
   ]
  }
 ],
 "metadata": {
  "kernelspec": {
   "display_name": "Python 3",
   "language": "python",
   "name": "python3"
  },
  "language_info": {
   "codemirror_mode": {
    "name": "ipython",
    "version": 3
   },
   "file_extension": ".py",
   "mimetype": "text/x-python",
   "name": "python",
   "nbconvert_exporter": "python",
   "pygments_lexer": "ipython3",
   "version": "3.8.8"
  }
 },
 "nbformat": 4,
 "nbformat_minor": 2
}
